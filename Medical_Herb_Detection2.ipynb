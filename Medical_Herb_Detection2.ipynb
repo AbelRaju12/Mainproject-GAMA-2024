{
 "cells": [
  {
   "cell_type": "code",
   "execution_count": 1,
   "metadata": {},
   "outputs": [
    {
     "name": "stdout",
     "output_type": "stream",
     "text": [
      "WARNING:tensorflow:From c:\\Users\\LENOVO\\AppData\\Local\\Programs\\Python\\Python310\\lib\\site-packages\\keras\\src\\losses.py:2976: The name tf.losses.sparse_softmax_cross_entropy is deprecated. Please use tf.compat.v1.losses.sparse_softmax_cross_entropy instead.\n",
      "\n"
     ]
    }
   ],
   "source": [
    "import tensorflow as tf"
   ]
  },
  {
   "cell_type": "code",
   "execution_count": 2,
   "metadata": {},
   "outputs": [],
   "source": [
    "import zipfile\n",
    "import os\n",
    "import tensorflow as tf\n"
   ]
  },
  {
   "cell_type": "code",
   "execution_count": 3,
   "metadata": {},
   "outputs": [],
   "source": [
    "# Specify the path to the ZIP file and the destination folder\n",
    "# zip_file_path = r\"C:\\Users\\LENOVO\\Desktop\\archive.zip\"\n",
    "extract_folder = r\"C:\\Users\\LENOVO\\Desktop\\extracted_files\"\n",
    "\n",
    "# Create the destination folder if it doesn't exist\n",
    "# os.makedirs(extract_folder, exist_ok=True)\n",
    "\n",
    "# # Extract the ZIP file\n",
    "# with zipfile.ZipFile(zip_file_path, 'r') as zip_ref:\n",
    "#     zip_ref.extractall(extract_folder)\n"
   ]
  },
  {
   "cell_type": "code",
   "execution_count": 4,
   "metadata": {},
   "outputs": [
    {
     "name": "stdout",
     "output_type": "stream",
     "text": [
      "Found 5979 files belonging to 40 classes.\n",
      "['Aloevera', 'Amla', 'Amruthaballi', 'Arali', 'Ashoka', 'Ashwagandha', 'Avacado', 'Bamboo', 'Basale', 'Betel', 'Betel_Nut', 'Brahmi', 'Castor', 'Curry', 'Ekka', 'Ganike', 'Geranium', 'Guava', 'Henna', 'Hibiscus', 'Honge', 'Indian_Borage', 'Insulin', 'Jasmine', 'Lemon', 'Lemon_grass', 'Mango', 'Mint', 'Nagadali', 'Neem', 'Nithyapushpa', 'Nooni', 'Papaya', 'Pepper', 'Pomegranate', 'Raktachandini', 'Rose', 'Sapota', 'Tulsi', 'Wood_sorel']\n"
     ]
    }
   ],
   "source": [
    "# Specify the path to the extracted dataset\n",
    "dataset_path = os.path.join(extract_folder, \"Indian Medicinal Leaves Image Datasets/Medicinal plant dataset\")\n",
    "\n",
    "# Create the dataset using image_dataset_from_directory\n",
    "dataset = tf.keras.preprocessing.image_dataset_from_directory(\n",
    "    dataset_path,\n",
    "    shuffle=True,\n",
    "    batch_size=32,\n",
    "    image_size=(299, 299),\n",
    ")\n",
    "\n",
    "# Get the class names (labels)\n",
    "labels = dataset.class_names\n",
    "print(labels)\n"
   ]
  },
  {
   "cell_type": "code",
   "execution_count": 5,
   "metadata": {},
   "outputs": [
    {
     "name": "stdout",
     "output_type": "stream",
     "text": [
      "(32, 299, 299, 3)\n",
      "[16 23 20 26 38 25  0 26 37 16 18 25 35 29 12 38 11 33 36 37 25  4  9 25\n",
      " 33 39 27  9 16 17  4 34]\n"
     ]
    }
   ],
   "source": [
    "import numpy as np\n",
    "\n",
    "for image_batch, labels_batch in dataset.take(1):\n",
    "    print(image_batch.shape)\n",
    "    print(labels_batch.numpy())\n",
    "    break"
   ]
  },
  {
   "cell_type": "code",
   "execution_count": 6,
   "metadata": {},
   "outputs": [
    {
     "data": {
      "text/plain": [
       "(149, 37)"
      ]
     },
     "execution_count": 6,
     "metadata": {},
     "output_type": "execute_result"
    }
   ],
   "source": [
    "# train test split\n",
    "train_size = int(0.8 * len(dataset))\n",
    "test_size = int(0.2 * len(dataset))\n",
    "train_size, test_size"
   ]
  },
  {
   "cell_type": "code",
   "execution_count": 7,
   "metadata": {},
   "outputs": [],
   "source": [
    "def get_dataset_partisions_tf(ds, train_split=0.8, test_split=0.2, shuffle=True, shuffle_size=10000):\n",
    "    if shuffle:\n",
    "        ds = ds.shuffle(shuffle_size, seed=12)\n",
    "    train_size = int(train_split * len(ds))\n",
    "    test_size = int(test_split * len(ds))\n",
    "    train_ds = ds.take(train_size)\n",
    "    test_ds = ds.skip(train_size)\n",
    "    val_ds = test_ds.skip(test_size)\n",
    "    test_ds = test_ds.take(test_size)\n",
    "    return train_ds, test_ds, val_ds"
   ]
  },
  {
   "cell_type": "code",
   "execution_count": 8,
   "metadata": {},
   "outputs": [
    {
     "data": {
      "text/plain": [
       "(149, 37, 1)"
      ]
     },
     "execution_count": 8,
     "metadata": {},
     "output_type": "execute_result"
    }
   ],
   "source": [
    "train_ds, test_ds, val_ds = get_dataset_partisions_tf(dataset)\n",
    "len(train_ds), len(test_ds), len(val_ds)"
   ]
  },
  {
   "cell_type": "code",
   "execution_count": 9,
   "metadata": {},
   "outputs": [
    {
     "name": "stdout",
     "output_type": "stream",
     "text": [
      "WARNING:tensorflow:From c:\\Users\\LENOVO\\AppData\\Local\\Programs\\Python\\Python310\\lib\\site-packages\\keras\\src\\backend.py:873: The name tf.get_default_graph is deprecated. Please use tf.compat.v1.get_default_graph instead.\n",
      "\n"
     ]
    }
   ],
   "source": [
    "resize_and_rescale = tf.keras.Sequential([\n",
    "    tf.keras.layers.experimental.preprocessing.Resizing(299, 299),\n",
    "    tf.keras.layers.experimental.preprocessing.Rescaling(1./255)\n",
    "])"
   ]
  },
  {
   "cell_type": "code",
   "execution_count": 10,
   "metadata": {},
   "outputs": [
    {
     "name": "stdout",
     "output_type": "stream",
     "text": [
      "WARNING:tensorflow:From c:\\Users\\LENOVO\\AppData\\Local\\Programs\\Python\\Python310\\lib\\site-packages\\keras\\src\\layers\\normalization\\batch_normalization.py:979: The name tf.nn.fused_batch_norm is deprecated. Please use tf.compat.v1.nn.fused_batch_norm instead.\n",
      "\n"
     ]
    }
   ],
   "source": [
    "base_model = tf.keras.applications.InceptionV3(\n",
    "    weights='imagenet',\n",
    "    input_shape=(299, 299, 3),\n",
    "    include_top=False,\n",
    "    pooling='avg',\n",
    "    classifier_activation='softmax',\n",
    "    classes=len(labels)\n",
    ")"
   ]
  },
  {
   "cell_type": "code",
   "execution_count": 11,
   "metadata": {},
   "outputs": [
    {
     "name": "stdout",
     "output_type": "stream",
     "text": [
      "WARNING:tensorflow:From c:\\Users\\LENOVO\\AppData\\Local\\Programs\\Python\\Python310\\lib\\site-packages\\keras\\src\\optimizers\\__init__.py:309: The name tf.train.Optimizer is deprecated. Please use tf.compat.v1.train.Optimizer instead.\n",
      "\n",
      "Model: \"model\"\n",
      "_________________________________________________________________\n",
      " Layer (type)                Output Shape              Param #   \n",
      "=================================================================\n",
      " input_2 (InputLayer)        [(None, 299, 299, 3)]     0         \n",
      "                                                                 \n",
      " sequential (Sequential)     (None, 299, 299, 3)       0         \n",
      "                                                                 \n",
      " inception_v3 (Functional)   (None, 2048)              21802784  \n",
      "                                                                 \n",
      " dense (Dense)               (None, 128)               262272    \n",
      "                                                                 \n",
      " dropout (Dropout)           (None, 128)               0         \n",
      "                                                                 \n",
      " dense_1 (Dense)             (None, 40)                5160      \n",
      "                                                                 \n",
      "=================================================================\n",
      "Total params: 22070216 (84.19 MB)\n",
      "Trainable params: 267432 (1.02 MB)\n",
      "Non-trainable params: 21802784 (83.17 MB)\n",
      "_________________________________________________________________\n",
      "Epoch 1/20\n",
      "WARNING:tensorflow:From c:\\Users\\LENOVO\\AppData\\Local\\Programs\\Python\\Python310\\lib\\site-packages\\keras\\src\\utils\\tf_utils.py:492: The name tf.ragged.RaggedTensorValue is deprecated. Please use tf.compat.v1.ragged.RaggedTensorValue instead.\n",
      "\n",
      "WARNING:tensorflow:From c:\\Users\\LENOVO\\AppData\\Local\\Programs\\Python\\Python310\\lib\\site-packages\\keras\\src\\engine\\base_layer_utils.py:384: The name tf.executing_eagerly_outside_functions is deprecated. Please use tf.compat.v1.executing_eagerly_outside_functions instead.\n",
      "\n",
      "149/149 [==============================] - 303s 1s/step - loss: 2.5974 - accuracy: 0.3374 - val_loss: 1.2171 - val_accuracy: 0.8125\n",
      "Epoch 2/20\n",
      "149/149 [==============================] - 161s 1s/step - loss: 1.3285 - accuracy: 0.6437 - val_loss: 1.0145 - val_accuracy: 0.7500\n",
      "Epoch 3/20\n",
      "149/149 [==============================] - 161s 1s/step - loss: 0.9380 - accuracy: 0.7409 - val_loss: 0.6283 - val_accuracy: 0.9062\n",
      "Epoch 4/20\n",
      "149/149 [==============================] - 160s 1s/step - loss: 0.7194 - accuracy: 0.7993 - val_loss: 0.3302 - val_accuracy: 0.9688\n",
      "Epoch 5/20\n",
      "149/149 [==============================] - 149s 974ms/step - loss: 0.5843 - accuracy: 0.8398 - val_loss: 0.2895 - val_accuracy: 0.9375\n",
      "Epoch 6/20\n",
      "149/149 [==============================] - 144s 936ms/step - loss: 0.4946 - accuracy: 0.8654 - val_loss: 0.3057 - val_accuracy: 0.9062\n",
      "Epoch 7/20\n",
      "149/149 [==============================] - 127s 828ms/step - loss: 0.4156 - accuracy: 0.8877 - val_loss: 0.1447 - val_accuracy: 0.9688\n",
      "Epoch 8/20\n",
      "149/149 [==============================] - 126s 824ms/step - loss: 0.3622 - accuracy: 0.8963 - val_loss: 0.1196 - val_accuracy: 0.9688\n",
      "Epoch 9/20\n",
      "149/149 [==============================] - 126s 823ms/step - loss: 0.3206 - accuracy: 0.9120 - val_loss: 0.0888 - val_accuracy: 1.0000\n",
      "Epoch 10/20\n",
      "149/149 [==============================] - 126s 826ms/step - loss: 0.2972 - accuracy: 0.9175 - val_loss: 0.1457 - val_accuracy: 0.9688\n",
      "Epoch 11/20\n",
      "149/149 [==============================] - 127s 827ms/step - loss: 0.2702 - accuracy: 0.9238 - val_loss: 0.1299 - val_accuracy: 1.0000\n",
      "Epoch 12/20\n",
      "149/149 [==============================] - 133s 867ms/step - loss: 0.2374 - accuracy: 0.9301 - val_loss: 0.0426 - val_accuracy: 1.0000\n",
      "Epoch 13/20\n",
      "149/149 [==============================] - 135s 885ms/step - loss: 0.2182 - accuracy: 0.9387 - val_loss: 0.0550 - val_accuracy: 1.0000\n",
      "Epoch 14/20\n",
      "149/149 [==============================] - 126s 821ms/step - loss: 0.1900 - accuracy: 0.9475 - val_loss: 0.0121 - val_accuracy: 1.0000\n",
      "Epoch 15/20\n",
      "149/149 [==============================] - 126s 821ms/step - loss: 0.1774 - accuracy: 0.9496 - val_loss: 0.0457 - val_accuracy: 1.0000\n",
      "Epoch 16/20\n",
      "149/149 [==============================] - 127s 829ms/step - loss: 0.1607 - accuracy: 0.9570 - val_loss: 0.0549 - val_accuracy: 1.0000\n",
      "Epoch 17/20\n",
      "149/149 [==============================] - 126s 820ms/step - loss: 0.1532 - accuracy: 0.9578 - val_loss: 0.0357 - val_accuracy: 1.0000\n",
      "Epoch 18/20\n",
      "149/149 [==============================] - 127s 829ms/step - loss: 0.1442 - accuracy: 0.9591 - val_loss: 0.0250 - val_accuracy: 1.0000\n",
      "Epoch 19/20\n",
      "149/149 [==============================] - 128s 839ms/step - loss: 0.1455 - accuracy: 0.9572 - val_loss: 0.0201 - val_accuracy: 1.0000\n",
      "Epoch 20/20\n",
      "149/149 [==============================] - 141s 921ms/step - loss: 0.1345 - accuracy: 0.9639 - val_loss: 0.0369 - val_accuracy: 1.0000\n"
     ]
    }
   ],
   "source": [
    "base_model.trainable = False\n",
    "\n",
    "inputs = tf.keras.Input(shape=(299, 299, 3))\n",
    "x = resize_and_rescale(inputs)\n",
    "x = base_model(x, training=False)\n",
    "x = tf.keras.layers.Dense(128, activation='relu')(x)\n",
    "x = tf.keras.layers.Dropout(0.2)(x)\n",
    "outputs = tf.keras.layers.Dense(len(labels), activation='softmax')(x)\n",
    "model = tf.keras.Model(inputs, outputs)\n",
    "\n",
    "model.compile(\n",
    "    optimizer='adam',\n",
    "    loss='sparse_categorical_crossentropy',\n",
    "    metrics=['accuracy']\n",
    ")\n",
    "\n",
    "model.summary()\n",
    "\n",
    "history = model.fit(\n",
    "    train_ds,\n",
    "    validation_data=val_ds,\n",
    "    batch_size=32,\n",
    "    epochs=20\n",
    ")"
   ]
  },
  {
   "cell_type": "code",
   "execution_count": 12,
   "metadata": {},
   "outputs": [
    {
     "name": "stderr",
     "output_type": "stream",
     "text": [
      "c:\\Users\\LENOVO\\AppData\\Local\\Programs\\Python\\Python310\\lib\\site-packages\\keras\\src\\engine\\training.py:3103: UserWarning: You are saving your model as an HDF5 file via `model.save()`. This file format is considered legacy. We recommend using instead the native Keras format, e.g. `model.save('my_model.keras')`.\n",
      "  saving_api.save_model(\n"
     ]
    }
   ],
   "source": [
    "model.save(r\"c:\\Users\\LENOVO\\Desktop\\modelv2.h5\")"
   ]
  },
  {
   "cell_type": "code",
   "execution_count": 13,
   "metadata": {},
   "outputs": [],
   "source": [
    "model_path = r\"c:\\Users\\LENOVO\\Desktop\\modelv2.h5\"  # Specify the local path to your saved model file\n",
    "\n",
    "# Load the model from the specified local path\n",
    "model = tf.keras.models.load_model(model_path)\n"
   ]
  },
  {
   "cell_type": "code",
   "execution_count": 14,
   "metadata": {},
   "outputs": [
    {
     "data": {
      "image/png": "[encoded data removed]",
      "text/plain": [
       "<Figure size 640x480 with 1 Axes>"
      ]
     },
     "metadata": {},
     "output_type": "display_data"
    },
    {
     "data": {
      "text/plain": [
       "<Figure size 640x480 with 0 Axes>"
      ]
     },
     "metadata": {},
     "output_type": "display_data"
    },
    {
     "data": {
      "image/png": "[encoded data removed]",
      "text/plain": [
       "<Figure size 640x480 with 1 Axes>"
      ]
     },
     "metadata": {},
     "output_type": "display_data"
    },
    {
     "data": {
      "text/plain": [
       "<Figure size 640x480 with 0 Axes>"
      ]
     },
     "metadata": {},
     "output_type": "display_data"
    }
   ],
   "source": [
    "import matplotlib.pyplot as plt\n",
    "\n",
    "def plot_metrics(history, metric, save_path):\n",
    "    \"\"\"\n",
    "    Plots a given metric (e.g. loss, accuracy) from the training history.\n",
    "    \n",
    "    Parameters:\n",
    "    history (tf.keras.callbacks.History): Training history object returned by model.fit().\n",
    "    metric (str): The name of the metric to plot ('loss' or 'accuracy').\n",
    "    save_path (str): File path where the plot will be saved.\n",
    "    \"\"\"\n",
    "    plt.figure()\n",
    "    plt.plot(history.history[metric], label=f'train {metric}')\n",
    "    plt.plot(history.history[f'val_{metric}'], label=f'val {metric}')\n",
    "    plt.xlabel('Epoch')\n",
    "    plt.ylabel(metric.capitalize())\n",
    "    plt.legend()\n",
    "    plt.show()\n",
    "    plt.savefig(save_path)\n",
    "\n",
    "# Plot and save the loss and accuracy graphs\n",
    "plot_metrics(history, 'loss', 'LossVal_loss.png')\n",
    "plot_metrics(history, 'accuracy', 'AccVal_acc.png')"
   ]
  }
 ],
 "metadata": {
  "kernelspec": {
   "display_name": "Python 3",
   "language": "python",
   "name": "python3"
  },
  "language_info": {
   "codemirror_mode": {
    "name": "ipython",
    "version": 3
   },
   "file_extension": ".py",
   "mimetype": "text/x-python",
   "name": "python",
   "nbconvert_exporter": "python",
   "pygments_lexer": "ipython3",
   "version": "3.10.6"
  }
 },
 "nbformat": 4,
 "nbformat_minor": 2
}
