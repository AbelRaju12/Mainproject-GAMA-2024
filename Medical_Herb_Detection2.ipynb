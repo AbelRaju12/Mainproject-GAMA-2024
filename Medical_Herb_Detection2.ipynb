{
 "cells": [
  {
   "cell_type": "code",
   "execution_count": 1,
   "metadata": {},
   "outputs": [
    {
     "name": "stdout",
     "output_type": "stream",
     "text": [
      "WARNING:tensorflow:From c:\\Users\\LENOVO\\AppData\\Local\\Programs\\Python\\Python310\\lib\\site-packages\\keras\\src\\losses.py:2976: The name tf.losses.sparse_softmax_cross_entropy is deprecated. Please use tf.compat.v1.losses.sparse_softmax_cross_entropy instead.\n",
      "\n"
     ]
    }
   ],
   "source": [
    "import tensorflow as tf"
   ]
  },
  {
   "cell_type": "code",
   "execution_count": 2,
   "metadata": {},
   "outputs": [],
   "source": [
    "import zipfile\n",
    "import os\n",
    "import tensorflow as tf\n"
   ]
  },
  {
   "cell_type": "code",
   "execution_count": 3,
   "metadata": {},
   "outputs": [],
   "source": [
    "# Specify the path to the ZIP file and the destination folder\n",
    "zip_file_path = r\"C:\\Users\\LENOVO\\Desktop\\archive.zip\"\n",
    "extract_folder = r\"C:\\Users\\LENOVO\\Desktop\\extracted_files\"\n",
    "\n",
    "# Create the destination folder if it doesn't exist\n",
    "os.makedirs(extract_folder, exist_ok=True)\n",
    "\n",
    "# Extract the ZIP file\n",
    "with zipfile.ZipFile(zip_file_path, 'r') as zip_ref:\n",
    "    zip_ref.extractall(extract_folder)\n"
   ]
  },
  {
   "cell_type": "code",
   "execution_count": 4,
   "metadata": {},
   "outputs": [
    {
     "name": "stdout",
     "output_type": "stream",
     "text": [
      "Found 5945 files belonging to 40 classes.\n",
      "['Aloevera', 'Amla', 'Amruta_Balli', 'Arali', 'Ashoka', 'Ashwagandha', 'Avacado', 'Bamboo', 'Basale', 'Betel', 'Betel_Nut', 'Brahmi', 'Castor', 'Curry_Leaf', 'Doddapatre', 'Ekka', 'Ganike', 'Gauva', 'Geranium', 'Henna', 'Hibiscus', 'Honge', 'Insulin', 'Jasmine', 'Lemon', 'Lemon_grass', 'Mango', 'Mint', 'Nagadali', 'Neem', 'Nithyapushpa', 'Nooni', 'Pappaya', 'Pepper', 'Pomegranate', 'Raktachandini', 'Rose', 'Sapota', 'Tulasi', 'Wood_sorel']\n"
     ]
    }
   ],
   "source": [
    "# Specify the path to the extracted dataset\n",
    "dataset_path = os.path.join(extract_folder, \"Indian Medicinal Leaves Image Datasets/Medicinal plant dataset\")\n",
    "\n",
    "# Create the dataset using image_dataset_from_directory\n",
    "dataset = tf.keras.preprocessing.image_dataset_from_directory(\n",
    "    dataset_path,\n",
    "    shuffle=True,\n",
    "    batch_size=32,\n",
    "    image_size=(299, 299),\n",
    ")\n",
    "\n",
    "# Get the class names (labels)\n",
    "labels = dataset.class_names\n",
    "print(labels)\n"
   ]
  },
  {
   "cell_type": "code",
   "execution_count": 5,
   "metadata": {},
   "outputs": [
    {
     "name": "stdout",
     "output_type": "stream",
     "text": [
      "(32, 299, 299, 3)\n",
      "[32 29 14 20 38 18 19 27 26 20 35 19 30 29  9 30 24 20  1 16 26  8  5 22\n",
      " 21  0  2  1 19 17 38  7]\n"
     ]
    }
   ],
   "source": [
    "import numpy as np\n",
    "\n",
    "for image_batch, labels_batch in dataset.take(1):\n",
    "    print(image_batch.shape)\n",
    "    print(labels_batch.numpy())\n",
    "    break"
   ]
  },
  {
   "cell_type": "code",
   "execution_count": 6,
   "metadata": {},
   "outputs": [
    {
     "data": {
      "text/plain": [
       "(148, 37)"
      ]
     },
     "execution_count": 6,
     "metadata": {},
     "output_type": "execute_result"
    }
   ],
   "source": [
    "# train test split\n",
    "train_size = int(0.8 * len(dataset))\n",
    "test_size = int(0.2 * len(dataset))\n",
    "train_size, test_size"
   ]
  },
  {
   "cell_type": "code",
   "execution_count": 7,
   "metadata": {},
   "outputs": [],
   "source": [
    "def get_dataset_partisions_tf(ds, train_split=0.8, test_split=0.2, shuffle=True, shuffle_size=10000):\n",
    "    if shuffle:\n",
    "        ds = ds.shuffle(shuffle_size, seed=12)\n",
    "    train_size = int(train_split * len(ds))\n",
    "    test_size = int(test_split * len(ds))\n",
    "    train_ds = ds.take(train_size)\n",
    "    test_ds = ds.skip(train_size)\n",
    "    val_ds = test_ds.skip(test_size)\n",
    "    test_ds = test_ds.take(test_size)\n",
    "    return train_ds, test_ds, val_ds"
   ]
  },
  {
   "cell_type": "code",
   "execution_count": 8,
   "metadata": {},
   "outputs": [
    {
     "data": {
      "text/plain": [
       "(148, 37, 1)"
      ]
     },
     "execution_count": 8,
     "metadata": {},
     "output_type": "execute_result"
    }
   ],
   "source": [
    "train_ds, test_ds, val_ds = get_dataset_partisions_tf(dataset)\n",
    "len(train_ds), len(test_ds), len(val_ds)"
   ]
  },
  {
   "cell_type": "code",
   "execution_count": 9,
   "metadata": {},
   "outputs": [
    {
     "name": "stdout",
     "output_type": "stream",
     "text": [
      "WARNING:tensorflow:From c:\\Users\\LENOVO\\AppData\\Local\\Programs\\Python\\Python310\\lib\\site-packages\\keras\\src\\backend.py:873: The name tf.get_default_graph is deprecated. Please use tf.compat.v1.get_default_graph instead.\n",
      "\n"
     ]
    }
   ],
   "source": [
    "resize_and_rescale = tf.keras.Sequential([\n",
    "    tf.keras.layers.experimental.preprocessing.Resizing(299, 299),\n",
    "    tf.keras.layers.experimental.preprocessing.Rescaling(1./255)\n",
    "])"
   ]
  },
  {
   "cell_type": "code",
   "execution_count": 10,
   "metadata": {},
   "outputs": [
    {
     "name": "stdout",
     "output_type": "stream",
     "text": [
      "WARNING:tensorflow:From c:\\Users\\LENOVO\\AppData\\Local\\Programs\\Python\\Python310\\lib\\site-packages\\keras\\src\\layers\\normalization\\batch_normalization.py:979: The name tf.nn.fused_batch_norm is deprecated. Please use tf.compat.v1.nn.fused_batch_norm instead.\n",
      "\n"
     ]
    }
   ],
   "source": [
    "base_model = tf.keras.applications.InceptionV3(\n",
    "    weights='imagenet',\n",
    "    input_shape=(299, 299, 3),\n",
    "    include_top=False,\n",
    "    pooling='avg',\n",
    "    classifier_activation='softmax',\n",
    "    classes=len(labels)\n",
    ")"
   ]
  },
  {
   "cell_type": "code",
   "execution_count": 11,
   "metadata": {},
   "outputs": [
    {
     "name": "stdout",
     "output_type": "stream",
     "text": [
      "WARNING:tensorflow:From c:\\Users\\LENOVO\\AppData\\Local\\Programs\\Python\\Python310\\lib\\site-packages\\keras\\src\\optimizers\\__init__.py:309: The name tf.train.Optimizer is deprecated. Please use tf.compat.v1.train.Optimizer instead.\n",
      "\n",
      "Model: \"model\"\n",
      "_________________________________________________________________\n",
      " Layer (type)                Output Shape              Param #   \n",
      "=================================================================\n",
      " input_2 (InputLayer)        [(None, 299, 299, 3)]     0         \n",
      "                                                                 \n",
      " sequential (Sequential)     (None, 299, 299, 3)       0         \n",
      "                                                                 \n",
      " inception_v3 (Functional)   (None, 2048)              21802784  \n",
      "                                                                 \n",
      " dense (Dense)               (None, 128)               262272    \n",
      "                                                                 \n",
      " dropout (Dropout)           (None, 128)               0         \n",
      "                                                                 \n",
      " dense_1 (Dense)             (None, 40)                5160      \n",
      "                                                                 \n",
      "=================================================================\n",
      "Total params: 22070216 (84.19 MB)\n",
      "Trainable params: 267432 (1.02 MB)\n",
      "Non-trainable params: 21802784 (83.17 MB)\n",
      "_________________________________________________________________\n",
      "Epoch 1/20\n",
      "WARNING:tensorflow:From c:\\Users\\LENOVO\\AppData\\Local\\Programs\\Python\\Python310\\lib\\site-packages\\keras\\src\\utils\\tf_utils.py:492: The name tf.ragged.RaggedTensorValue is deprecated. Please use tf.compat.v1.ragged.RaggedTensorValue instead.\n",
      "\n",
      "WARNING:tensorflow:From c:\\Users\\LENOVO\\AppData\\Local\\Programs\\Python\\Python310\\lib\\site-packages\\keras\\src\\engine\\base_layer_utils.py:384: The name tf.executing_eagerly_outside_functions is deprecated. Please use tf.compat.v1.executing_eagerly_outside_functions instead.\n",
      "\n",
      "148/148 [==============================] - 144s 898ms/step - loss: 2.4836 - accuracy: 0.3633 - val_loss: 1.2403 - val_accuracy: 0.6875\n",
      "Epoch 2/20\n",
      "148/148 [==============================] - 130s 856ms/step - loss: 1.2255 - accuracy: 0.6715 - val_loss: 0.6644 - val_accuracy: 0.8438\n",
      "Epoch 3/20\n",
      "148/148 [==============================] - 130s 858ms/step - loss: 0.8323 - accuracy: 0.7692 - val_loss: 0.3218 - val_accuracy: 0.9375\n",
      "Epoch 4/20\n",
      "148/148 [==============================] - 130s 858ms/step - loss: 0.6445 - accuracy: 0.8251 - val_loss: 0.1941 - val_accuracy: 0.9688\n",
      "Epoch 5/20\n",
      "148/148 [==============================] - 130s 857ms/step - loss: 0.5146 - accuracy: 0.8547 - val_loss: 0.1946 - val_accuracy: 1.0000\n",
      "Epoch 6/20\n",
      "148/148 [==============================] - 131s 866ms/step - loss: 0.4438 - accuracy: 0.8769 - val_loss: 0.2208 - val_accuracy: 0.9688\n",
      "Epoch 7/20\n",
      "148/148 [==============================] - 131s 862ms/step - loss: 0.3572 - accuracy: 0.9027 - val_loss: 0.0794 - val_accuracy: 1.0000\n",
      "Epoch 8/20\n",
      "148/148 [==============================] - 132s 870ms/step - loss: 0.3070 - accuracy: 0.9151 - val_loss: 0.1163 - val_accuracy: 0.9688\n",
      "Epoch 9/20\n",
      "148/148 [==============================] - 131s 865ms/step - loss: 0.2757 - accuracy: 0.9244 - val_loss: 0.0923 - val_accuracy: 1.0000\n",
      "Epoch 10/20\n",
      "148/148 [==============================] - 130s 859ms/step - loss: 0.2590 - accuracy: 0.9262 - val_loss: 0.1908 - val_accuracy: 0.9375\n",
      "Epoch 11/20\n",
      "148/148 [==============================] - 131s 865ms/step - loss: 0.2419 - accuracy: 0.9320 - val_loss: 0.0463 - val_accuracy: 1.0000\n",
      "Epoch 12/20\n",
      "148/148 [==============================] - 131s 864ms/step - loss: 0.1959 - accuracy: 0.9454 - val_loss: 0.1460 - val_accuracy: 0.9375\n",
      "Epoch 13/20\n",
      "148/148 [==============================] - 158s 1s/step - loss: 0.1710 - accuracy: 0.9518 - val_loss: 0.1037 - val_accuracy: 0.9688\n",
      "Epoch 14/20\n",
      "148/148 [==============================] - 162s 1s/step - loss: 0.1657 - accuracy: 0.9552 - val_loss: 0.0376 - val_accuracy: 1.0000\n",
      "Epoch 15/20\n",
      "148/148 [==============================] - 161s 1s/step - loss: 0.1374 - accuracy: 0.9607 - val_loss: 0.0467 - val_accuracy: 1.0000\n",
      "Epoch 16/20\n",
      "148/148 [==============================] - 161s 1s/step - loss: 0.1303 - accuracy: 0.9658 - val_loss: 0.0764 - val_accuracy: 0.9688\n",
      "Epoch 17/20\n",
      "148/148 [==============================] - 161s 1s/step - loss: 0.1330 - accuracy: 0.9624 - val_loss: 0.0091 - val_accuracy: 1.0000\n",
      "Epoch 18/20\n",
      "148/148 [==============================] - 161s 1s/step - loss: 0.1190 - accuracy: 0.9681 - val_loss: 0.0323 - val_accuracy: 1.0000\n",
      "Epoch 19/20\n",
      "148/148 [==============================] - 161s 1s/step - loss: 0.1105 - accuracy: 0.9688 - val_loss: 0.0220 - val_accuracy: 1.0000\n",
      "Epoch 20/20\n",
      "148/148 [==============================] - 170s 1s/step - loss: 0.1057 - accuracy: 0.9685 - val_loss: 0.0241 - val_accuracy: 1.0000\n"
     ]
    }
   ],
   "source": [
    "base_model.trainable = False\n",
    "\n",
    "inputs = tf.keras.Input(shape=(299, 299, 3))\n",
    "x = resize_and_rescale(inputs)\n",
    "x = base_model(x, training=False)\n",
    "x = tf.keras.layers.Dense(128, activation='relu')(x)\n",
    "x = tf.keras.layers.Dropout(0.2)(x)\n",
    "outputs = tf.keras.layers.Dense(len(labels), activation='softmax')(x)\n",
    "model = tf.keras.Model(inputs, outputs)\n",
    "\n",
    "model.compile(\n",
    "    optimizer='adam',\n",
    "    loss='sparse_categorical_crossentropy',\n",
    "    metrics=['accuracy']\n",
    ")\n",
    "\n",
    "model.summary()\n",
    "\n",
    "history = model.fit(\n",
    "    train_ds,\n",
    "    validation_data=val_ds,\n",
    "    batch_size=32,\n",
    "    epochs=20\n",
    ")"
   ]
  },
  {
   "cell_type": "code",
   "execution_count": 12,
   "metadata": {},
   "outputs": [
    {
     "name": "stderr",
     "output_type": "stream",
     "text": [
      "c:\\Users\\LENOVO\\AppData\\Local\\Programs\\Python\\Python310\\lib\\site-packages\\keras\\src\\engine\\training.py:3103: UserWarning: You are saving your model as an HDF5 file via `model.save()`. This file format is considered legacy. We recommend using instead the native Keras format, e.g. `model.save('my_model.keras')`.\n",
      "  saving_api.save_model(\n"
     ]
    }
   ],
   "source": [
    "model.save(r\"c:\\Users\\LENOVO\\Desktop\\modelv2.h5\")"
   ]
  },
  {
   "cell_type": "code",
   "execution_count": 13,
   "metadata": {},
   "outputs": [],
   "source": [
    "model_path = r\"c:\\Users\\LENOVO\\Desktop\\modelv2.h5\"  # Specify the local path to your saved model file\n",
    "\n",
    "# Load the model from the specified local path\n",
    "model = tf.keras.models.load_model(model_path)\n"
   ]
  },
  {
   "cell_type": "code",
   "execution_count": 14,
   "metadata": {},
   "outputs": [
    {
     "data": {
      "image/png": "[encoded data removed]",
      "text/plain": [
       "<Figure size 640x480 with 1 Axes>"
      ]
     },
     "metadata": {},
     "output_type": "display_data"
    },
    {
     "data": {
      "text/plain": [
       "<Figure size 640x480 with 0 Axes>"
      ]
     },
     "metadata": {},
     "output_type": "display_data"
    },
    {
     "data": {
      "image/png": "[encoded data removed]",
      "text/plain": [
       "<Figure size 640x480 with 1 Axes>"
      ]
     },
     "metadata": {},
     "output_type": "display_data"
    },
    {
     "data": {
      "text/plain": [
       "<Figure size 640x480 with 0 Axes>"
      ]
     },
     "metadata": {},
     "output_type": "display_data"
    }
   ],
   "source": [
    "import matplotlib.pyplot as plt\n",
    "\n",
    "def plot_metrics(history, metric, save_path):\n",
    "    \"\"\"\n",
    "    Plots a given metric (e.g. loss, accuracy) from the training history.\n",
    "    \n",
    "    Parameters:\n",
    "    history (tf.keras.callbacks.History): Training history object returned by model.fit().\n",
    "    metric (str): The name of the metric to plot ('loss' or 'accuracy').\n",
    "    save_path (str): File path where the plot will be saved.\n",
    "    \"\"\"\n",
    "    plt.figure()\n",
    "    plt.plot(history.history[metric], label=f'train {metric}')\n",
    "    plt.plot(history.history[f'val_{metric}'], label=f'val {metric}')\n",
    "    plt.xlabel('Epoch')\n",
    "    plt.ylabel(metric.capitalize())\n",
    "    plt.legend()\n",
    "    plt.show()\n",
    "    plt.savefig(save_path)\n",
    "\n",
    "# Plot and save the loss and accuracy graphs\n",
    "plot_metrics(history, 'loss', 'LossVal_loss.png')\n",
    "plot_metrics(history, 'accuracy', 'AccVal_acc.png')"
   ]
  }
 ],
 "metadata": {
  "kernelspec": {
   "display_name": "Python 3",
   "language": "python",
   "name": "python3"
  },
  "language_info": {
   "codemirror_mode": {
    "name": "ipython",
    "version": 3
   },
   "file_extension": ".py",
   "mimetype": "text/x-python",
   "name": "python",
   "nbconvert_exporter": "python",
   "pygments_lexer": "ipython3",
   "version": "3.10.6"
  }
 },
 "nbformat": 4,
 "nbformat_minor": 2
}
