{
  "cells": [
    {
      "cell_type": "code",
      "execution_count": 1,
      "metadata": {
        "id": "ZkN1n4iTycyw"
      },
      "outputs": [
        {
          "name": "stdout",
          "output_type": "stream",
          "text": [
            "WARNING:tensorflow:From c:\\Users\\LENOVO\\AppData\\Local\\Programs\\Python\\Python310\\lib\\site-packages\\keras\\src\\losses.py:2976: The name tf.losses.sparse_softmax_cross_entropy is deprecated. Please use tf.compat.v1.losses.sparse_softmax_cross_entropy instead.\n",
            "\n"
          ]
        }
      ],
      "source": [
        "import tensorflow as tf"
      ]
    },
    {
      "cell_type": "code",
      "execution_count": 1,
      "metadata": {
        "colab": {
          "base_uri": "https://localhost:8080/"
        },
        "id": "v3T1TSv5ylvN",
        "outputId": "174213c0-72b6-49ab-e600-73ff713efd1b"
      },
      "outputs": [
        {
          "name": "stdout",
          "output_type": "stream",
          "text": [
            "WARNING:tensorflow:From c:\\Users\\LENOVO\\AppData\\Local\\Programs\\Python\\Python310\\lib\\site-packages\\keras\\src\\losses.py:2976: The name tf.losses.sparse_softmax_cross_entropy is deprecated. Please use tf.compat.v1.losses.sparse_softmax_cross_entropy instead.\n",
            "\n"
          ]
        }
      ],
      "source": [
        "import zipfile\n",
        "import os\n",
        "import tensorflow as tf\n"
      ]
    },
    {
      "cell_type": "code",
      "execution_count": 2,
      "metadata": {
        "colab": {
          "base_uri": "https://localhost:8080/"
        },
        "id": "tkLrWiFKyw_n",
        "outputId": "23926f3c-1470-4a18-bd63-0f3ac858d6b9"
      },
      "outputs": [],
      "source": [
        "# Specify the path to the ZIP file and the destination folder\n",
        "# zip_file_path = r\"C:\\Users\\LENOVO\\Desktop\\archive.zip\"\n",
        "extract_folder = r\"C:\\Users\\LENOVO\\Desktop\\extracted_files\"\n",
        "\n",
        "# Create the destination folder if it doesn't exist\n",
        "# os.makedirs(extract_folder, exist_ok=True)\n",
        "\n",
        "# # Extract the ZIP file\n",
        "# with zipfile.ZipFile(zip_file_path, 'r') as zip_ref:\n",
        "#     zip_ref.extractall(extract_folder)\n"
      ]
    },
    {
      "cell_type": "code",
      "execution_count": 3,
      "metadata": {
        "colab": {
          "base_uri": "https://localhost:8080/"
        },
        "id": "cwC7T40Hycyz",
        "outputId": "b2c4c20a-7d88-4436-81d6-76ff37b46845"
      },
      "outputs": [
        {
          "name": "stdout",
          "output_type": "stream",
          "text": [
            "Found 6901 files belonging to 80 classes.\n",
            "['Aloevera', 'Amla', 'Amruthaballi', 'Arali', 'Astma_weed', 'Badipala', 'Balloon_Vine', 'Bamboo', 'Beans', 'Betel', 'Bhrami', 'Bringaraja', 'Caricature', 'Castor', 'Catharanthus', 'Chakte', 'Chilly', 'Citron lime (herelikai)', 'Coffee', 'Common rue(naagdalli)', 'Coriender', 'Curry', 'Drumstick', 'Ekka', 'Eucalyptus', 'Ganigale', 'Ganike', 'Gasagase', 'Ginger', 'Globe Amarnath', 'Guava', 'Henna', 'Hibiscus', 'Honge', 'Indian_Borage', 'Insulin', 'Jackfruit', 'Jasmine', 'Kambajala', 'Kasambruga', 'Kohlrabi', 'Lantana', 'Lemon', 'Lemongrass', 'Malabar_Nut', 'Malabar_Spinach', 'Mango', 'Marigold', 'Mint', 'Neem', 'Nelavembu', 'Nerale', 'Nooni', 'Onion', 'Padri', 'Palak(Spinach)', 'Papaya', 'Parijatha', 'Pea', 'Pepper', 'Pomoegranate', 'Pumpkin', 'Raddish', 'Rose', 'Sampige', 'Sapota', 'Seethaashoka', 'Seethapala', 'Spinach', 'Tamarind', 'Taro', 'Tecoma', 'Thumbe', 'Tomato', 'Tulsi', 'Turmeric', 'ashoka', 'camphor', 'kamakasturi', 'kepala']\n"
          ]
        }
      ],
      "source": [
        "# Specify the path to the extracted dataset\n",
        "dataset_path = os.path.join(extract_folder, \"Indian Medicinal Leaves Image Datasets/Medicinal Leaf dataset\")\n",
        "\n",
        "# Create the dataset using image_dataset_from_directory\n",
        "dataset = tf.keras.preprocessing.image_dataset_from_directory(\n",
        "    dataset_path,\n",
        "    shuffle=True,\n",
        "    batch_size=32,\n",
        "    image_size=(299, 299),\n",
        ")\n",
        "\n",
        "# Get the class names (labels)\n",
        "labels = dataset.class_names\n",
        "print(labels)\n"
      ]
    },
    {
      "cell_type": "code",
      "execution_count": 4,
      "metadata": {
        "colab": {
          "base_uri": "https://localhost:8080/"
        },
        "id": "i3Z4tAOwycy0",
        "outputId": "7525cb6d-a6ea-489e-fd96-ce269b153a73"
      },
      "outputs": [
        {
          "name": "stdout",
          "output_type": "stream",
          "text": [
            "(32, 299, 299, 3)\n",
            "[22 64  6 56 31 79 64 73 19 65 64 24 45 32  9  7 46  7 10  8 52 72 77 55\n",
            " 26 52 55 48 48 64 69 26]\n"
          ]
        }
      ],
      "source": [
        "import numpy as np\n",
        "\n",
        "for image_batch, labels_batch in dataset.take(1):\n",
        "    print(image_batch.shape)\n",
        "    print(labels_batch.numpy())\n",
        "    break"
      ]
    },
    {
      "cell_type": "code",
      "execution_count": 5,
      "metadata": {
        "colab": {
          "base_uri": "https://localhost:8080/"
        },
        "id": "JVtuEuyjycy0",
        "outputId": "40108148-d2ae-4755-c59d-c0d2726e01cc"
      },
      "outputs": [
        {
          "data": {
            "text/plain": [
              "(172, 43)"
            ]
          },
          "execution_count": 5,
          "metadata": {},
          "output_type": "execute_result"
        }
      ],
      "source": [
        "# train test split\n",
        "train_size = int(0.8 * len(dataset))\n",
        "test_size = int(0.2 * len(dataset))\n",
        "train_size, test_size"
      ]
    },
    {
      "cell_type": "code",
      "execution_count": 6,
      "metadata": {
        "id": "sOXZAc4fycy0"
      },
      "outputs": [],
      "source": [
        "def get_dataset_partisions_tf(ds, train_split=0.8, test_split=0.2, shuffle=True, shuffle_size=10000):\n",
        "    if shuffle:\n",
        "        ds = ds.shuffle(shuffle_size, seed=12)\n",
        "    train_size = int(train_split * len(ds))\n",
        "    test_size = int(test_split * len(ds))\n",
        "    train_ds = ds.take(train_size)\n",
        "    test_ds = ds.skip(train_size)\n",
        "    val_ds = test_ds.skip(test_size)\n",
        "    test_ds = test_ds.take(test_size)\n",
        "    return train_ds, test_ds, val_ds"
      ]
    },
    {
      "cell_type": "code",
      "execution_count": 7,
      "metadata": {
        "colab": {
          "base_uri": "https://localhost:8080/"
        },
        "id": "J36H02jpycy0",
        "outputId": "132229e2-00ff-4145-b8d7-67726528f99b"
      },
      "outputs": [
        {
          "data": {
            "text/plain": [
              "(172, 43, 1)"
            ]
          },
          "execution_count": 7,
          "metadata": {},
          "output_type": "execute_result"
        }
      ],
      "source": [
        "train_ds, test_ds, val_ds = get_dataset_partisions_tf(dataset)\n",
        "len(train_ds), len(test_ds), len(val_ds)"
      ]
    },
    {
      "cell_type": "code",
      "execution_count": 8,
      "metadata": {
        "id": "FXadd6A1ycy1"
      },
      "outputs": [
        {
          "name": "stdout",
          "output_type": "stream",
          "text": [
            "WARNING:tensorflow:From c:\\Users\\LENOVO\\AppData\\Local\\Programs\\Python\\Python310\\lib\\site-packages\\keras\\src\\backend.py:873: The name tf.get_default_graph is deprecated. Please use tf.compat.v1.get_default_graph instead.\n",
            "\n"
          ]
        }
      ],
      "source": [
        "resize_and_rescale = tf.keras.Sequential([\n",
        "    tf.keras.layers.experimental.preprocessing.Resizing(299, 299),\n",
        "    tf.keras.layers.experimental.preprocessing.Rescaling(1./255)\n",
        "])"
      ]
    },
    {
      "cell_type": "code",
      "execution_count": 9,
      "metadata": {
        "colab": {
          "base_uri": "https://localhost:8080/"
        },
        "id": "D9t0_FtZycy1",
        "outputId": "a8c5b77f-7c47-4dc1-8530-2250eb244b77"
      },
      "outputs": [
        {
          "name": "stdout",
          "output_type": "stream",
          "text": [
            "WARNING:tensorflow:From c:\\Users\\LENOVO\\AppData\\Local\\Programs\\Python\\Python310\\lib\\site-packages\\keras\\src\\layers\\normalization\\batch_normalization.py:979: The name tf.nn.fused_batch_norm is deprecated. Please use tf.compat.v1.nn.fused_batch_norm instead.\n",
            "\n"
          ]
        }
      ],
      "source": [
        "base_model = tf.keras.applications.InceptionV3(\n",
        "    weights='imagenet',\n",
        "    input_shape=(299, 299, 3),\n",
        "    include_top=False,\n",
        "    pooling='avg',\n",
        "    classifier_activation='softmax',\n",
        "    classes=len(labels)\n",
        ")"
      ]
    },
    {
      "cell_type": "code",
      "execution_count": 10,
      "metadata": {
        "colab": {
          "base_uri": "https://localhost:8080/"
        },
        "id": "tseHKr34ycy1",
        "outputId": "3ae5082b-69e8-4d77-ab2d-fc508edf212e"
      },
      "outputs": [
        {
          "name": "stdout",
          "output_type": "stream",
          "text": [
            "WARNING:tensorflow:From c:\\Users\\LENOVO\\AppData\\Local\\Programs\\Python\\Python310\\lib\\site-packages\\keras\\src\\optimizers\\__init__.py:309: The name tf.train.Optimizer is deprecated. Please use tf.compat.v1.train.Optimizer instead.\n",
            "\n",
            "Model: \"model\"\n",
            "_________________________________________________________________\n",
            " Layer (type)                Output Shape              Param #   \n",
            "=================================================================\n",
            " input_2 (InputLayer)        [(None, 299, 299, 3)]     0         \n",
            "                                                                 \n",
            " sequential (Sequential)     (None, 299, 299, 3)       0         \n",
            "                                                                 \n",
            " inception_v3 (Functional)   (None, 2048)              21802784  \n",
            "                                                                 \n",
            " dense (Dense)               (None, 128)               262272    \n",
            "                                                                 \n",
            " dropout (Dropout)           (None, 128)               0         \n",
            "                                                                 \n",
            " dense_1 (Dense)             (None, 80)                10320     \n",
            "                                                                 \n",
            "=================================================================\n",
            "Total params: 22075376 (84.21 MB)\n",
            "Trainable params: 272592 (1.04 MB)\n",
            "Non-trainable params: 21802784 (83.17 MB)\n",
            "_________________________________________________________________\n",
            "Epoch 1/20\n",
            "WARNING:tensorflow:From c:\\Users\\LENOVO\\AppData\\Local\\Programs\\Python\\Python310\\lib\\site-packages\\keras\\src\\utils\\tf_utils.py:492: The name tf.ragged.RaggedTensorValue is deprecated. Please use tf.compat.v1.ragged.RaggedTensorValue instead.\n",
            "\n",
            "WARNING:tensorflow:From c:\\Users\\LENOVO\\AppData\\Local\\Programs\\Python\\Python310\\lib\\site-packages\\keras\\src\\engine\\base_layer_utils.py:384: The name tf.executing_eagerly_outside_functions is deprecated. Please use tf.compat.v1.executing_eagerly_outside_functions instead.\n",
            "\n",
            "172/172 [==============================] - 215s 1s/step - loss: 3.7392 - accuracy: 0.1404 - val_loss: 2.6740 - val_accuracy: 0.2188\n",
            "Epoch 2/20\n",
            "172/172 [==============================] - 209s 1s/step - loss: 2.5187 - accuracy: 0.3716 - val_loss: 1.7152 - val_accuracy: 0.5938\n",
            "Epoch 3/20\n",
            "172/172 [==============================] - 207s 1s/step - loss: 1.8977 - accuracy: 0.5125 - val_loss: 1.1847 - val_accuracy: 0.7812\n",
            "Epoch 4/20\n",
            "172/172 [==============================] - 207s 1s/step - loss: 1.5725 - accuracy: 0.5884 - val_loss: 1.2235 - val_accuracy: 0.8125\n",
            "Epoch 5/20\n",
            "172/172 [==============================] - 207s 1s/step - loss: 1.2963 - accuracy: 0.6559 - val_loss: 0.5283 - val_accuracy: 0.9375\n",
            "Epoch 6/20\n",
            "172/172 [==============================] - 208s 1s/step - loss: 1.1243 - accuracy: 0.6971 - val_loss: 0.7654 - val_accuracy: 0.8750\n",
            "Epoch 7/20\n",
            "172/172 [==============================] - 208s 1s/step - loss: 1.0307 - accuracy: 0.7175 - val_loss: 0.6369 - val_accuracy: 0.8125\n",
            "Epoch 8/20\n",
            "172/172 [==============================] - 207s 1s/step - loss: 0.9246 - accuracy: 0.7380 - val_loss: 0.5084 - val_accuracy: 0.9062\n",
            "Epoch 9/20\n",
            "172/172 [==============================] - 208s 1s/step - loss: 0.8365 - accuracy: 0.7616 - val_loss: 0.4318 - val_accuracy: 1.0000\n",
            "Epoch 10/20\n",
            "172/172 [==============================] - 206s 1s/step - loss: 0.7549 - accuracy: 0.7819 - val_loss: 0.3478 - val_accuracy: 0.9062\n",
            "Epoch 11/20\n",
            "172/172 [==============================] - 207s 1s/step - loss: 0.6878 - accuracy: 0.8063 - val_loss: 0.5496 - val_accuracy: 0.8125\n",
            "Epoch 12/20\n",
            "172/172 [==============================] - 206s 1s/step - loss: 0.6605 - accuracy: 0.8130 - val_loss: 0.2396 - val_accuracy: 0.9688\n",
            "Epoch 13/20\n",
            "172/172 [==============================] - 206s 1s/step - loss: 0.5800 - accuracy: 0.8360 - val_loss: 0.2633 - val_accuracy: 0.9688\n",
            "Epoch 14/20\n",
            "172/172 [==============================] - 208s 1s/step - loss: 0.5544 - accuracy: 0.8409 - val_loss: 0.4030 - val_accuracy: 0.8750\n",
            "Epoch 15/20\n",
            "172/172 [==============================] - 208s 1s/step - loss: 0.5282 - accuracy: 0.8478 - val_loss: 0.2444 - val_accuracy: 0.9375\n",
            "Epoch 16/20\n",
            "172/172 [==============================] - 207s 1s/step - loss: 0.4887 - accuracy: 0.8611 - val_loss: 0.2423 - val_accuracy: 0.9375\n",
            "Epoch 17/20\n",
            "172/172 [==============================] - 207s 1s/step - loss: 0.4753 - accuracy: 0.8602 - val_loss: 0.2988 - val_accuracy: 0.9375\n",
            "Epoch 18/20\n",
            "172/172 [==============================] - 207s 1s/step - loss: 0.4246 - accuracy: 0.8801 - val_loss: 0.2529 - val_accuracy: 0.9375\n",
            "Epoch 19/20\n",
            "172/172 [==============================] - 208s 1s/step - loss: 0.4105 - accuracy: 0.8813 - val_loss: 0.1912 - val_accuracy: 0.9688\n",
            "Epoch 20/20\n",
            "172/172 [==============================] - 211s 1s/step - loss: 0.3974 - accuracy: 0.8811 - val_loss: 0.1531 - val_accuracy: 0.9688\n"
          ]
        }
      ],
      "source": [
        "base_model.trainable = False\n",
        "\n",
        "inputs = tf.keras.Input(shape=(299, 299, 3))\n",
        "x = resize_and_rescale(inputs)\n",
        "x = base_model(x, training=False)\n",
        "x = tf.keras.layers.Dense(128, activation='relu')(x)\n",
        "x = tf.keras.layers.Dropout(0.2)(x)\n",
        "outputs = tf.keras.layers.Dense(len(labels), activation='softmax')(x)\n",
        "model = tf.keras.Model(inputs, outputs)\n",
        "\n",
        "model.compile(\n",
        "    optimizer='adam',\n",
        "    loss='sparse_categorical_crossentropy',\n",
        "    metrics=['accuracy']\n",
        ")\n",
        "\n",
        "model.summary()\n",
        "\n",
        "history = model.fit(\n",
        "    train_ds,\n",
        "    validation_data=val_ds,\n",
        "    batch_size=32,\n",
        "    epochs=20\n",
        ")"
      ]
    },
    {
      "cell_type": "code",
      "execution_count": 11,
      "metadata": {
        "id": "Gz46K8MNHWue"
      },
      "outputs": [
        {
          "name": "stderr",
          "output_type": "stream",
          "text": [
            "c:\\Users\\LENOVO\\AppData\\Local\\Programs\\Python\\Python310\\lib\\site-packages\\keras\\src\\engine\\training.py:3103: UserWarning: You are saving your model as an HDF5 file via `model.save()`. This file format is considered legacy. We recommend using instead the native Keras format, e.g. `model.save('my_model.keras')`.\n",
            "  saving_api.save_model(\n"
          ]
        }
      ],
      "source": [
        "model.save(r\"c:\\Users\\LENOVO\\Desktop\\modelv1.h5\")"
      ]
    },
    {
      "cell_type": "code",
      "execution_count": 13,
      "metadata": {
        "id": "O38amWDqiISL"
      },
      "outputs": [],
      "source": [
        "model_path = r\"c:\\Users\\LENOVO\\Desktop\\modelv1.h5\"  # Specify the local path to your saved model file\n",
        "\n",
        "# Load the model from the specified local path\n",
        "model = tf.keras.models.load_model(model_path)\n"
      ]
    },
    {
      "cell_type": "code",
      "execution_count": null,
      "metadata": {
        "colab": {
          "base_uri": "https://localhost:8080/"
        },
        "id": "ppxXA7uNfmV0",
        "outputId": "322de843-5e3d-4f68-9966-dfabdaa48053"
      },
      "outputs": [],
      "source": [
        "import numpy as np\n",
        "\n",
        "img = tf.keras.preprocessing.image.load_img(\n",
        "    '100.jpg', target_size=(299, 299)\n",
        ")\n",
        "img_array = tf.keras.preprocessing.image.img_to_array(img)\n",
        "img_array = tf.expand_dims(img_array, 0)\n",
        "predictions = model.predict(img_array)\n",
        "score = tf.nn.sigmoid(predictions[0])\n",
        "print(\n",
        "    \"This image most likely belongs to {} with a {:.2f} percent confidence.\"\n",
        "    .format(labels[np.argmax(score)], 100 * np.max(score))\n",
        ")"
      ]
    },
    {
      "cell_type": "code",
      "execution_count": 15,
      "metadata": {
        "id": "8rEQFpt_h5H_"
      },
      "outputs": [
        {
          "data": {
            "image/png": "[encoded data removed]",
            "text/plain": [
              "<Figure size 640x480 with 1 Axes>"
            ]
          },
          "metadata": {},
          "output_type": "display_data"
        },
        {
          "data": {
            "text/plain": [
              "<Figure size 640x480 with 0 Axes>"
            ]
          },
          "metadata": {},
          "output_type": "display_data"
        },
        {
          "data": {
            "image/png": "[encoded data removed]",
            "text/plain": [
              "<Figure size 640x480 with 1 Axes>"
            ]
          },
          "metadata": {},
          "output_type": "display_data"
        },
        {
          "data": {
            "text/plain": [
              "<Figure size 640x480 with 0 Axes>"
            ]
          },
          "metadata": {},
          "output_type": "display_data"
        }
      ],
      "source": [
        "import matplotlib.pyplot as plt\n",
        "\n",
        "def plot_metrics(history, metric, save_path):\n",
        "    \"\"\"\n",
        "    Plots a given metric (e.g. loss, accuracy) from the training history.\n",
        "    \n",
        "    Parameters:\n",
        "    history (tf.keras.callbacks.History): Training history object returned by model.fit().\n",
        "    metric (str): The name of the metric to plot ('loss' or 'accuracy').\n",
        "    save_path (str): File path where the plot will be saved.\n",
        "    \"\"\"\n",
        "    plt.figure()\n",
        "    plt.plot(history.history[metric], label=f'train {metric}')\n",
        "    plt.plot(history.history[f'val_{metric}'], label=f'val {metric}')\n",
        "    plt.xlabel('Epoch')\n",
        "    plt.ylabel(metric.capitalize())\n",
        "    plt.legend()\n",
        "    plt.show()\n",
        "    plt.savefig(save_path)\n",
        "\n",
        "# Plot and save the loss and accuracy graphs\n",
        "plot_metrics(history, 'loss', 'LossVal_loss.png')\n",
        "plot_metrics(history, 'accuracy', 'AccVal_acc.png')"
      ]
    }
  ],
  "metadata": {
    "accelerator": "GPU",
    "colab": {
      "gpuType": "T4",
      "provenance": []
    },
    "kaggle": {
      "accelerator": "gpu",
      "dataSources": [
        {
          "datasetId": 3701557,
          "sourceId": 6417582,
          "sourceType": "datasetVersion"
        },
        {
          "datasetId": 3851533,
          "sourceId": 6675703,
          "sourceType": "datasetVersion"
        }
      ],
      "dockerImageVersionId": 30558,
      "isGpuEnabled": true,
      "isInternetEnabled": false,
      "language": "python",
      "sourceType": "notebook"
    },
    "kernelspec": {
      "display_name": "Python 3",
      "name": "python3"
    },
    "language_info": {
      "codemirror_mode": {
        "name": "ipython",
        "version": 3
      },
      "file_extension": ".py",
      "mimetype": "text/x-python",
      "name": "python",
      "nbconvert_exporter": "python",
      "pygments_lexer": "ipython3",
      "version": "3.10.6"
    }
  },
  "nbformat": 4,
  "nbformat_minor": 0
}
